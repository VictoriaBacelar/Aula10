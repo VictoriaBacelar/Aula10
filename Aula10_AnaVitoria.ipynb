{
  "nbformat": 4,
  "nbformat_minor": 0,
  "metadata": {
    "colab": {
      "name": "Aula10_AnaVitoria.ipynb",
      "version": "0.3.2",
      "provenance": []
    },
    "kernelspec": {
      "name": "python3",
      "display_name": "Python 3"
    }
  },
  "cells": [
    {
      "metadata": {
        "id": "QELgXB5X5HL9",
        "colab_type": "code",
        "colab": {
          "base_uri": "https://localhost:8080/",
          "height": 119
        },
        "outputId": "13ccdf92-370c-4682-b177-4e67338aefd9"
      },
      "cell_type": "code",
      "source": [
        "import numpy as np\n",
        "def func( A,n ): \n",
        "  \n",
        "    m12 = A[ 2 - 1, 1 - 1 ] / A[ 1 - 1, 1-1 ]\n",
        "    m21 = A[ 3 - 1, 1 - 1 ] / A[ 1 - 1, 1-1 ] \n",
        "    \n",
        "    return m12, m21\n",
        "  \n",
        "A = np.matrix([[3,2,4],[1,1,2],[4,3,2]])\n",
        "n = np.shape(A)[0] - 1\n",
        "a,b = func(A,n)\n",
        "M = np.matrix([[1,0,0],[(a*(-1)),1,0],[(b*(-1)),0,1]])\n",
        "\n",
        "print(M)\n",
        "Final = M*A\n",
        "print(Final)\n"
      ],
      "execution_count": 17,
      "outputs": [
        {
          "output_type": "stream",
          "text": [
            "[[ 1.          0.          0.        ]\n",
            " [-0.33333333  1.          0.        ]\n",
            " [-1.33333333  0.          1.        ]]\n",
            "[[ 3.          2.          4.        ]\n",
            " [ 0.          0.33333333  0.66666667]\n",
            " [ 0.          0.33333333 -3.33333333]]\n"
          ],
          "name": "stdout"
        }
      ]
    },
    {
      "metadata": {
        "id": "VyveO8O9EgUr",
        "colab_type": "code",
        "colab": {
          "base_uri": "https://localhost:8080/",
          "height": 68
        },
        "outputId": "017d0f6e-d60f-4c5c-a41c-0319af3eb682"
      },
      "cell_type": "code",
      "source": [
        "import numpy as np\n",
        "def func( A,n ): \n",
        "  \n",
        "    m12 = A[ 2 - 1, 1 - 1 ] / A[ 1 - 1, 1-1 ]\n",
        "    m21 = A[ 3 - 1, 1 - 1 ] / A[ 1 - 1, 1-1 ] \n",
        "    \n",
        "    return m12, m21\n",
        "  \n",
        "A = np.matrix([[3,2,4],[1,1,2],[4,3,-2]])\n",
        "b = np.array([1,2,3])\n",
        "\n",
        "n = np.shape(A)[0] - 1\n",
        "a,b = func(A,n)\n",
        "M = np.matrix([[1,0,0],[(a*(-1)),1,0],[(b*(-1)),0,1]])\n",
        "\n",
        "print(np.dot(M,b))\n"
      ],
      "execution_count": 29,
      "outputs": [
        {
          "output_type": "stream",
          "text": [
            "[[ 1.33333333  0.          0.        ]\n",
            " [-0.44444444  1.33333333  0.        ]\n",
            " [-1.77777778  0.          1.33333333]]\n"
          ],
          "name": "stdout"
        }
      ]
    },
    {
      "metadata": {
        "id": "dnRe_6CWAje2",
        "colab_type": "code",
        "colab": {}
      },
      "cell_type": "code",
      "source": [
        ""
      ],
      "execution_count": 0,
      "outputs": []
    }
  ]
}