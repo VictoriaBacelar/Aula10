{
  "nbformat": 4,
  "nbformat_minor": 0,
  "metadata": {
    "colab": {
      "name": "Aula10_AnaVitoria.ipynb",
      "version": "0.3.2",
      "provenance": []
    },
    "kernelspec": {
      "name": "python3",
      "display_name": "Python 3"
    }
  },
  "cells": [
    {
      "metadata": {
        "id": "QELgXB5X5HL9",
        "colab_type": "code",
        "outputId": "13ccdf92-370c-4682-b177-4e67338aefd9",
        "colab": {
          "base_uri": "https://localhost:8080/",
          "height": 119
        }
      },
      "cell_type": "code",
      "source": [
        "import numpy as np\n",
        "def func( A,n ): \n",
        "  \n",
        "    m12 = A[ 2 - 1, 1 - 1 ] / A[ 1 - 1, 1-1 ]\n",
        "    m21 = A[ 3 - 1, 1 - 1 ] / A[ 1 - 1, 1-1 ] \n",
        "    \n",
        "    return m12, m21\n",
        "  \n",
        "A = np.matrix([[3,2,4],[1,1,2],[4,3,2]])\n",
        "n = np.shape(A)[0] - 1\n",
        "a,b = func(A,n)\n",
        "M = np.matrix([[1,0,0],[(a*(-1)),1,0],[(b*(-1)),0,1]])\n",
        "\n",
        "print(M)\n",
        "Final = M*A\n",
        "print(Final)\n"
      ],
      "execution_count": 0,
      "outputs": [
        {
          "output_type": "stream",
          "text": [
            "[[ 1.          0.          0.        ]\n",
            " [-0.33333333  1.          0.        ]\n",
            " [-1.33333333  0.          1.        ]]\n",
            "[[ 3.          2.          4.        ]\n",
            " [ 0.          0.33333333  0.66666667]\n",
            " [ 0.          0.33333333 -3.33333333]]\n"
          ],
          "name": "stdout"
        }
      ]
    },
    {
      "metadata": {
        "id": "VyveO8O9EgUr",
        "colab_type": "code",
        "outputId": "017d0f6e-d60f-4c5c-a41c-0319af3eb682",
        "colab": {
          "base_uri": "https://localhost:8080/",
          "height": 68
        }
      },
      "cell_type": "code",
      "source": [
        "import numpy as np\n",
        "def func( A,n ): \n",
        "  \n",
        "    m12 = A[ 2 - 1, 1 - 1 ] / A[ 1 - 1, 1-1 ]\n",
        "    m21 = A[ 3 - 1, 1 - 1 ] / A[ 1 - 1, 1-1 ] \n",
        "    \n",
        "    return m12, m21\n",
        "  \n",
        "A = np.matrix([[3,2,4],[1,1,2],[4,3,-2]])\n",
        "b = np.array([1,2,3])\n",
        "\n",
        "n = np.shape(A)[0] - 1\n",
        "a,b = func(A,n)\n",
        "M = np.matrix([[1,0,0],[(a*(-1)),1,0],[(b*(-1)),0,1]])\n",
        "\n",
        "print(np.dot(M,b))\n"
      ],
      "execution_count": 0,
      "outputs": [
        {
          "output_type": "stream",
          "text": [
            "[[ 1.33333333  0.          0.        ]\n",
            " [-0.44444444  1.33333333  0.        ]\n",
            " [-1.77777778  0.          1.33333333]]\n"
          ],
          "name": "stdout"
        }
      ]
    },
    {
      "metadata": {
        "id": "dnRe_6CWAje2",
        "colab_type": "code",
        "colab": {
          "base_uri": "https://localhost:8080/",
          "height": 459
        },
        "outputId": "8a2a09c0-b3bd-4bcf-c3e0-5016f5b8d2e6"
      },
      "cell_type": "code",
      "source": [
        "import numpy as np\n",
        "\n",
        "def Decomposition_LU(a,b):\n",
        "  n = len(a)\n",
        "  u = a\n",
        "  l = np.eye(n)\n",
        "  \n",
        "  for k in range(0,n-1):\n",
        "    for i in range(k+1,n):\n",
        "        l[i][k] = a [i][k]/a[k][k]\n",
        "        u[i][k] = 0\n",
        "        for j in range(k+1, n):\n",
        "          u[i][j] = u[i][j] - l[i][k]*u[k][j]\n",
        "          \n",
        "  return l, u\n",
        "\n",
        "def resolSystem_TriAdapted(a,b):\n",
        "    n = len(a)\n",
        "    x = n*[0]\n",
        "    x[n-1] = b[n-1]/a[n-1][n-1]\n",
        "    for i in range(0,n):\n",
        "      s=0\n",
        "      for j in range(0,n-1):\n",
        "        s = s + (a[i][j]*x[j])\n",
        "      x[i] = (b[i] - s) /a[i][i]\n",
        "    return x\n",
        "  \n",
        "def resolSystem_Tri(a,b):\n",
        "    n = len(a)\n",
        "    x = n*[0]\n",
        "    x[n-1] = b[n-1]/a[n-1][n-1]\n",
        "    for i in range(n-2,-1,-1):\n",
        "      s=0\n",
        "      for j in range(i+1,n):\n",
        "        s = s + (a[i][j]*x[j])\n",
        "      x[i] = (b[i] - s) /a[i][i]\n",
        "    return x\n",
        "\n",
        "def all_integrated(a,b):\n",
        "  print(\"\\nMatriz A: \")\n",
        "  print(a)\n",
        "  print(\"\\nSolução de X Pelo Linalg:\")\n",
        "  resp = np.linalg.solve(a,b)\n",
        "  print(resp)\n",
        "  l, u = Decomposition_LU(a,b)\n",
        "  print(\"\\nMatriz L: \")\n",
        "  print(l)\n",
        "  print(\"\\nMatriz U: \")\n",
        "  print(u)\n",
        "  y = resolSystem_TriL(l,b)\n",
        "  print(\"\\nLy = b\" )\n",
        "  print(\"Y=\" )\n",
        "  print(y)\n",
        "  print(\"\\nUx = y\")\n",
        "  print(\"X =\")\n",
        "  x_solverSystem = resolSystem_Tri(u,y)\n",
        "  print(x_solverSystem)\n",
        "\n",
        "\n",
        "  \n",
        "  \n",
        "a = np.array([[3.,(2.),(4.)], [1.,1.,(2.)], [(4.),(3.),(2.)]])\n",
        "b = np.array([1.,2.,3.])\n",
        "\n",
        "\n",
        "all_integrated(a,b)\n",
        "\n"
      ],
      "execution_count": 1,
      "outputs": [
        {
          "output_type": "stream",
          "text": [
            "\n",
            "Matriz A: \n",
            "[[3. 2. 4.]\n",
            " [1. 1. 2.]\n",
            " [4. 3. 2.]]\n",
            "\n",
            "Solução de X Pelo Linalg:\n",
            "[-3.  5.  0.]\n",
            "\n",
            "Matriz L: \n",
            "[[1.         0.         0.        ]\n",
            " [0.33333333 1.         0.        ]\n",
            " [1.33333333 1.         1.        ]]\n",
            "\n",
            "Matriz U: \n",
            "[[ 3.          2.          4.        ]\n",
            " [ 0.          0.33333333  0.66666667]\n",
            " [ 0.          0.         -4.        ]]\n",
            "\n",
            "Ly = b\n",
            "Y=\n",
            "[1.0, 1.6666666666666667, -4.440892098500626e-16]\n",
            "\n",
            "Ux = y\n",
            "X =\n",
            "[-3.0, 5.0, 1.1102230246251565e-16]\n"
          ],
          "name": "stdout"
        }
      ]
    }
  ]
}